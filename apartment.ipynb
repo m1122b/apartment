{
 "cells": [
  {
   "cell_type": "code",
   "execution_count": 3,
   "id": "607645e4-3c2b-4e98-8359-72cfd9873927",
   "metadata": {},
   "outputs": [],
   "source": [
    "import numpy as np"
   ]
  },
  {
   "cell_type": "code",
   "execution_count": 32,
   "id": "abacb6f4-22ea-4a8d-8fe6-c5247bd15002",
   "metadata": {},
   "outputs": [
    {
     "data": {
      "text/plain": [
       "60"
      ]
     },
     "execution_count": 32,
     "metadata": {},
     "output_type": "execute_result"
    }
   ],
   "source": [
    "m = 120000 # koszt mieszkania\n",
    "freq = 12 # kapitalizacja odsetek i płatności z tytułu raty – 12 razy w roku\n",
    "rate_m = 0.05 # przez następne 5 lat ceny mieszkań będą rosły w tempie 5% rocznie.\n",
    "rate_b = 0.12 # bank oferuje nominalną stopę procentową w wysokości 12% w skali roku, przy kapitalizacji miesięcznej\n",
    "years = 5 # okres oszczędziania i drożenia mieszkania\n",
    "\n",
    "rate_m /= freq  # konwersja stopy do okresu miesięcznego\n",
    "rate_b /= freq  # konwersja stopy do okresu miesięcznego\n",
    "nper = years * freq  # liczba wszystkich okresów\n",
    "nper"
   ]
  },
  {
   "cell_type": "code",
   "execution_count": 7,
   "id": "6bcebc28-2b79-41b7-9028-384a853e5871",
   "metadata": {},
   "outputs": [
    {
     "data": {
      "text/plain": [
       "0.004166666666666667"
      ]
     },
     "execution_count": 7,
     "metadata": {},
     "output_type": "execute_result"
    }
   ],
   "source": [
    "rate_m"
   ]
  },
  {
   "cell_type": "code",
   "execution_count": 8,
   "id": "d19f6756-64df-4879-a776-7323413e9549",
   "metadata": {},
   "outputs": [
    {
     "data": {
      "text/plain": [
       "0.01"
      ]
     },
     "execution_count": 8,
     "metadata": {},
     "output_type": "execute_result"
    }
   ],
   "source": [
    "rate_b"
   ]
  },
  {
   "cell_type": "code",
   "execution_count": 33,
   "id": "da5ba162-00f4-43f9-b230-0f8d65a59886",
   "metadata": {},
   "outputs": [
    {
     "data": {
      "text/plain": [
       "array([ 0,  1,  2,  3,  4,  5,  6,  7,  8,  9, 10, 11, 12, 13, 14, 15, 16,\n",
       "       17, 18, 19, 20, 21, 22, 23, 24, 25, 26, 27, 28, 29, 30, 31, 32, 33,\n",
       "       34, 35, 36, 37, 38, 39, 40, 41, 42, 43, 44, 45, 46, 47, 48, 49, 50,\n",
       "       51, 52, 53, 54, 55, 56, 57, 58, 59, 60])"
      ]
     },
     "execution_count": 33,
     "metadata": {},
     "output_type": "execute_result"
    }
   ],
   "source": [
    "periods = np.arange(0,nper+1,dtype=int)\n",
    "periods"
   ]
  },
  {
   "cell_type": "markdown",
   "id": "a2c74509-9475-4731-bc99-5cb6eb8a0b66",
   "metadata": {},
   "source": [
    "# Cena mieszkania po 5 latach"
   ]
  },
  {
   "cell_type": "code",
   "execution_count": 11,
   "id": "bc26acb5-4105-403f-aa73-a806b79fa9b4",
   "metadata": {},
   "outputs": [],
   "source": [
    "import numpy_financial as npf"
   ]
  },
  {
   "cell_type": "code",
   "execution_count": 34,
   "id": "958aabdc-ddec-48c8-8573-f39046a05e0b",
   "metadata": {},
   "outputs": [
    {
     "data": {
      "text/plain": [
       "array([120000.  , 120500.  , 121002.08, 121506.26, 122012.53, 122520.92,\n",
       "       123031.42, 123544.06, 124058.82, 124575.73, 125094.8 , 125616.03,\n",
       "       126139.43, 126665.01, 127192.78, 127722.75, 128254.93, 128789.32,\n",
       "       129325.95, 129864.8 , 130405.91, 130949.26, 131494.89, 132042.78,\n",
       "       132592.96, 133145.43, 133700.2 , 134257.29, 134816.69, 135378.43,\n",
       "       135942.51, 136508.93, 137077.72, 137648.88, 138222.41, 138798.34,\n",
       "       139376.67, 139957.4 , 140540.56, 141126.15, 141714.17, 142304.65,\n",
       "       142897.58, 143492.99, 144090.88, 144691.26, 145294.14, 145899.53,\n",
       "       146507.44, 147117.89, 147730.88, 148346.43, 148964.54, 149585.22,\n",
       "       150208.49, 150834.36, 151462.84, 152093.93, 152727.66, 153364.02,\n",
       "       154003.04])"
      ]
     },
     "execution_count": 34,
     "metadata": {},
     "output_type": "execute_result"
    }
   ],
   "source": [
    "future_value = - np.around(npf.fv(rate_m, periods, 0 , m),2)\n",
    "future_value"
   ]
  },
  {
   "cell_type": "code",
   "execution_count": 35,
   "id": "be3c1a62-e143-4b3f-ab16-03d6425684de",
   "metadata": {},
   "outputs": [
    {
     "data": {
      "text/plain": [
       "154003.04"
      ]
     },
     "execution_count": 35,
     "metadata": {},
     "output_type": "execute_result"
    }
   ],
   "source": [
    "m_5 = future_value[-1]\n",
    "m_5"
   ]
  },
  {
   "cell_type": "markdown",
   "id": "44387c3f-c732-4481-95ba-c02f677e768e",
   "metadata": {},
   "source": [
    "# Miesięczna wpłata, aby uzbierać na mieszkanie"
   ]
  },
  {
   "cell_type": "code",
   "execution_count": 36,
   "id": "bcf9c014-ce3b-4e50-a59a-cc58714dd96b",
   "metadata": {},
   "outputs": [
    {
     "data": {
      "text/plain": [
       "1885.68"
      ]
     },
     "execution_count": 36,
     "metadata": {},
     "output_type": "execute_result"
    }
   ],
   "source": [
    "monthly_payment = - np.around(npf.pmt(rate_b, nper, 0 , m_5),2)\n",
    "monthly_payment"
   ]
  },
  {
   "cell_type": "code",
   "execution_count": 37,
   "id": "faeec744-92e4-4379-b9b8-6415e28b3b43",
   "metadata": {},
   "outputs": [
    {
     "data": {
      "text/plain": [
       "array([     0.  ,   1885.68,   3790.22,   5713.8 ,   7656.62,   9618.86,\n",
       "        11600.73,  13602.42,  15624.12,  17666.04,  19728.38,  21811.35,\n",
       "        23915.14,  26039.97,  28186.05,  30353.59,  32542.81,  34753.92,\n",
       "        36987.14,  39242.69,  41520.8 ,  43821.68,  46145.58,  48492.72,\n",
       "        50863.32,  53257.64,  55675.89,  58118.33,  60585.2 ,  63076.73,\n",
       "        65593.17,  68134.79,  70701.81,  73294.51,  75913.14,  78557.95,\n",
       "        81229.21,  83927.18,  86652.13,  89404.33,  92184.06,  94991.58,\n",
       "        97827.17, 100691.12, 103583.72, 106505.23, 109455.97, 112436.2 ,\n",
       "       115446.25, 118486.39, 121556.93, 124658.18, 127790.44, 130954.03,\n",
       "       134149.25, 137376.42, 140635.87, 143927.9 , 147252.86, 150611.07,\n",
       "       154002.86])"
      ]
     },
     "execution_count": 37,
     "metadata": {},
     "output_type": "execute_result"
    }
   ],
   "source": [
    "deposit = - np.around(npf.fv(rate_b, periods, monthly_payment , 0),2)\n",
    "deposit"
   ]
  },
  {
   "cell_type": "code",
   "execution_count": 38,
   "id": "08eaf039-2cf4-4494-94ee-d592b7373231",
   "metadata": {},
   "outputs": [
    {
     "name": "stdout",
     "output_type": "stream",
     "text": [
      "Cena mieszkania po 5 latach: 154003.04PLN\n",
      "Miesięczna wpłata na lokatę: 1885.68PLN\n"
     ]
    }
   ],
   "source": [
    "print(f\"Cena mieszkania po 5 latach: {m_5}PLN\")\n",
    "print(f\"Miesięczna wpłata na lokatę: {monthly_payment}PLN\")"
   ]
  },
  {
   "cell_type": "markdown",
   "id": "fd18ebb6-8971-438a-aa60-238fa20b9670",
   "metadata": {},
   "source": [
    "# Wykres "
   ]
  },
  {
   "cell_type": "code",
   "execution_count": 28,
   "id": "10dbf99f-f839-4f4b-ba16-143769ef0cd0",
   "metadata": {},
   "outputs": [],
   "source": [
    "import matplotlib.pyplot as plt"
   ]
  },
  {
   "cell_type": "code",
   "execution_count": 40,
   "id": "ad97a1bc-bc13-4840-af92-8a22171aa4ab",
   "metadata": {},
   "outputs": [
    {
     "data": {
      "text/plain": [
       "Text(0, 0.5, 'Kwota (pln)')"
      ]
     },
     "execution_count": 40,
     "metadata": {},
     "output_type": "execute_result"
    },
    {
     "data": {
      "image/png": "[encoded data removed]",
      "text/plain": [
       "<Figure size 432x288 with 1 Axes>"
      ]
     },
     "metadata": {
      "needs_background": "light"
     },
     "output_type": "display_data"
    }
   ],
   "source": [
    "plt.plot(periods, future_value, label='Cena mieszkania')\n",
    "plt.plot(periods, deposit, label='Wartość oszczędności')\n",
    "plt.title(\"Cena mieszkania do oszczędności\")\n",
    "plt.legend()\n",
    "plt.xlabel('Liczba okresów')\n",
    "plt.ylabel('Kwota (pln)')"
   ]
  }
 ],
 "metadata": {
  "kernelspec": {
   "display_name": "Python 3 (ipykernel)",
   "language": "python",
   "name": "python3"
  },
  "language_info": {
   "codemirror_mode": {
    "name": "ipython",
    "version": 3
   },
   "file_extension": ".py",
   "mimetype": "text/x-python",
   "name": "python",
   "nbconvert_exporter": "python",
   "pygments_lexer": "ipython3",
   "version": "3.10.2"
  }
 },
 "nbformat": 4,
 "nbformat_minor": 5
}
